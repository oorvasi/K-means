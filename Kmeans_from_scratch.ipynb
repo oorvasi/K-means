{
 "cells": [
  {
   "cell_type": "markdown",
   "metadata": {},
   "source": [
    "Algorithm:\n",
    "    \n",
    "1. choose k – the number of clusters\n",
    "\n",
    "2. select k random points as the initial centroids\n",
    "\n",
    "3. assign each data point to the nearest cluster based on the distance of the data point to the centroid (use Euclidean distance)\n",
    "\n",
    "4. calculate the new coordinates of all clusters centroids by averaging coordinates over all clusters members\n",
    "\n",
    "5. repeat steps 3. and 4. until the clusters members do not change anymore"
   ]
  },
  {
   "cell_type": "markdown",
   "metadata": {},
   "source": [
    "- On place K centroids au hasard dans le dataset.\n",
    "\n",
    "- Chaque point est affecté au cluster du centroid le plus proche.\n",
    "\n",
    "- Le centroid est déplacé au milieu du cluster. (là où se situe la moyenne des points)\n",
    "\n",
    "- jusqu'à ce que le centroid converge vers une position d'équilibre."
   ]
  },
  {
   "cell_type": "markdown",
   "metadata": {},
   "source": [
    "It starts with random cluster assignment for each data point. In this example, each data point could be from any one K=3 random clusters.\n",
    "\n",
    "Then we iterate\n",
    "\n",
    "for each cluster we compute the center point of the cluster. This is what “means” part of the K-means clustering.\n",
    "Then for each data point we find the distance to the all K=3 cluster centers and assign the cluster that is closest to the data point. For example, a data point is assigned to a cluster if the distance from the data point and to the cluster is the smallest when compared to the other clusters. We typically use Euclidean distance measure to estimate the distance between a data point to a cluster center.\n",
    "The iterations are done when our cluster centers stabilizes and do not change between successive iterations."
   ]
  },
  {
   "cell_type": "code",
   "execution_count": 95,
   "metadata": {},
   "outputs": [],
   "source": [
    "import pandas as pd\n",
    "import numpy as np\n",
    "import matplotlib.pyplot as plt\n",
    "import numpy.matlib"
   ]
  },
  {
   "cell_type": "code",
   "execution_count": 99,
   "metadata": {},
   "outputs": [
    {
     "name": "stdout",
     "output_type": "stream",
     "text": [
      "[[-1.73031962  1.13979705 -0.94534292]\n",
      " [-1.72685552  2.10534395 -0.43738712]\n",
      " [-1.72339142  0.41727183 -1.29526812]\n",
      " ...\n",
      " [ 1.72339142 -0.87870586  0.97767634]\n",
      " [ 1.72685552 -0.61872132  1.00415686]\n",
      " [ 1.73031962 -1.16807229  0.3629466 ]]\n"
     ]
    }
   ],
   "source": [
    "df = pd.read_csv(\"dataset_1.csv\")\n",
    "df = StandardScaler().fit_transform(df)\n",
    "cluster_array = np.array(df)\n",
    "print(cluster_array)"
   ]
  },
  {
   "cell_type": "code",
   "execution_count": 84,
   "metadata": {},
   "outputs": [
    {
     "data": {
      "text/plain": [
       "<matplotlib.collections.PathCollection at 0x1a23a01410>"
      ]
     },
     "execution_count": 84,
     "metadata": {},
     "output_type": "execute_result"
    },
    {
     "data": {
      "image/png": "[encoded data removed]",
      "text/plain": [
       "<Figure size 432x288 with 1 Axes>"
      ]
     },
     "metadata": {
      "needs_background": "light"
     },
     "output_type": "display_data"
    }
   ],
   "source": [
    "# Getting the values and plotting it\n",
    "plt.scatter(df[:,0], df[:,1],s=7)"
   ]
  },
  {
   "cell_type": "code",
   "execution_count": 88,
   "metadata": {},
   "outputs": [],
   "source": [
    "def calc_distance(X1, X2):\n",
    "    return (sum((X1 - X2)**2))**0.5"
   ]
  },
  {
   "cell_type": "code",
   "execution_count": 89,
   "metadata": {},
   "outputs": [],
   "source": [
    "# Assign cluster clusters based on closest centroid\n",
    "def assign_clusters(centroids, cluster_array):\n",
    "    clusters = []\n",
    "    for i in range(cluster_array.shape[0]):\n",
    "        distances = []\n",
    "        for centroid in centroids:\n",
    "            distances.append(calc_distance(centroid, cluster_array[i]))\n",
    "        cluster = [z for z, val in enumerate(distances) if val==min(distances)]\n",
    "        clusters.append(cluster[0])\n",
    "    return clusters"
   ]
  },
  {
   "cell_type": "code",
   "execution_count": 90,
   "metadata": {},
   "outputs": [],
   "source": [
    "# Calculate new centroids based on each cluster's mean\n",
    "def calc_centroids(clusters, cluster_array):\n",
    "    new_centroids = []\n",
    "    cluster_df = pd.concat([pd.DataFrame(cluster_array),pd.DataFrame(clusters, columns=['cluster'])], axis=1)\n",
    "    for c in set(cluster_df['cluster']):\n",
    "        current_cluster = cluster_df[cluster_df['cluster']==c][cluster_df.columns[:-1]]\n",
    "        cluster_mean = current_cluster.mean(axis=0)\n",
    "        new_centroids.append(cluster_mean)\n",
    "    return new_centroids"
   ]
  },
  {
   "cell_type": "code",
   "execution_count": 91,
   "metadata": {},
   "outputs": [],
   "source": [
    "# Calculate variance within each cluster\n",
    "def calc_centroid_variance(clusters, cluster_array):\n",
    "    sum_squares = []\n",
    "    cluster_df = pd.concat([pd.DataFrame(cluster_array),pd.DataFrame(clusters, columns=['cluster'])], axis=1)\n",
    "    for c in set(cluster_df['cluster']):\n",
    "        current_cluster = cluster_df[cluster_df['cluster']==c][cluster_df.columns[:-1]]\n",
    "        cluster_mean = current_cluster.mean(axis=0)\n",
    "        mean_repmat = np.matlib.repmat(cluster_mean, current_cluster.shape[0],1)\n",
    "        sum_squares.append(np.sum(np.sum((current_cluster - mean_repmat)**2)))\n",
    "    return sum_squares"
   ]
  },
  {
   "cell_type": "code",
   "execution_count": 96,
   "metadata": {},
   "outputs": [
    {
     "name": "stdout",
     "output_type": "stream",
     "text": [
      "0 508.0\n",
      "1 106.0\n",
      "2 101.0\n",
      "3 100.0\n",
      "4 99.0\n",
      "5 98.0\n",
      "6 97.0\n",
      "7 96.0\n",
      "8 93.0\n",
      "9 92.0\n",
      "10 92.0\n",
      "11 92.0\n",
      "12 92.0\n",
      "13 92.0\n",
      "14 92.0\n",
      "15 92.0\n",
      "16 92.0\n",
      "17 92.0\n",
      "18 92.0\n",
      "19 92.0\n",
      "20 92.0\n"
     ]
    }
   ],
   "source": [
    "k = 4\n",
    "cluster_vars = []\n",
    "centroids = [cluster_array[i+2] for i in range(k)]\n",
    "clusters = assign_clusters(centroids, cluster_array)\n",
    "initial_clusters = clusters\n",
    "print(0, round(np.mean(calc_centroid_variance(clusters, cluster_array))))\n",
    "for i in range(20):\n",
    "    centroids = calc_centroids(clusters, cluster_array)\n",
    "    clusters = assign_clusters(centroids, cluster_array)\n",
    "    cluster_var = np.mean(calc_centroid_variance(clusters, \n",
    "                                                 cluster_array))\n",
    "    cluster_vars.append(cluster_var)\n",
    "    print(i+1, round(cluster_var))"
   ]
  },
  {
   "cell_type": "code",
   "execution_count": null,
   "metadata": {},
   "outputs": [],
   "source": []
  },
  {
   "cell_type": "code",
   "execution_count": null,
   "metadata": {},
   "outputs": [],
   "source": []
  }
 ],
 "metadata": {
  "kernelspec": {
   "display_name": "Python 3",
   "language": "python",
   "name": "python3"
  },
  "language_info": {
   "codemirror_mode": {
    "name": "ipython",
    "version": 3
   },
   "file_extension": ".py",
   "mimetype": "text/x-python",
   "name": "python",
   "nbconvert_exporter": "python",
   "pygments_lexer": "ipython3",
   "version": "3.7.4"
  }
 },
 "nbformat": 4,
 "nbformat_minor": 4
}
